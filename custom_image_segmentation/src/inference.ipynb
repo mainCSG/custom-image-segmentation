{
 "cells": [
  {
   "cell_type": "code",
   "execution_count": null,
   "metadata": {},
   "outputs": [],
   "source": [
    "from train import *\n",
    "\n",
    "from detectron2.engine import DefaultPredictor\n",
    "from detectron2.utils.visualizer import Visualizer\n",
    "import matplotlib.pyplot as plt\n",
    "\n",
    "import random\n",
    "import cv2\n",
    "\n",
    "%matplotlib qt"
   ]
  },
  {
   "cell_type": "code",
   "execution_count": null,
   "metadata": {},
   "outputs": [],
   "source": [
    "DATA_DIR = Path(\"../examples/dot_configuration/data\")\n",
    "CONFIG_FILE = Path(\"../examples/dot_configuration/configuration.yaml\")\n",
    "TRAINED_MODEL_PTH = \"../examples/dot_configuration/trained_models/dot_configuration.pth\"\n",
    "\n",
    "TRAIN_DIR = DATA_DIR / \"train\"\n",
    "VAL_DIR = DATA_DIR / \"val\"\n",
    "TEST_DIR = DATA_DIR / \"test\""
   ]
  },
  {
   "cell_type": "code",
   "execution_count": null,
   "metadata": {},
   "outputs": [],
   "source": [
    "info, hyperparams = parse_configuration_file(CONFIG_FILE)\n",
    "\n",
    "cfg = get_cfg()\n",
    "cfg.merge_from_file(model_zoo.get_config_file(\"COCO-InstanceSegmentation/mask_rcnn_R_50_FPN_3x.yaml\"))\n",
    "# cfg.DATASETS.TRAIN = (\"csd_train\",)\n",
    "# cfg.DATASETS.TEST = ()\n",
    "\n",
    "cfg.MODEL.DEVICE = \"cpu\" \n",
    "cfg.DATALOADER.NUM_WORKERS = 0\n",
    "\n",
    "cfg.SOLVER.IMS_PER_BATCH = hyperparams['batch_num']\n",
    "cfg.SOLVER.BASE_LR = hyperparams['learning_rate']\n",
    "cfg.SOLVER.MAX_ITER = hyperparams['num_epochs']\n",
    "cfg.SOLVER.STEPS = []        \n",
    "cfg.MODEL.ROI_HEADS.BATCH_SIZE_PER_IMAGE = hyperparams['batch_size_per_img']\n",
    "\n",
    "cfg.MODEL.ROI_HEADS.NUM_CLASSES = len(list(info['classes'].keys()))\n",
    "\n",
    "# os.makedirs(cfg.OUTPUT_DIR, exist_ok=True)\n",
    "\n",
    "# Inference should use the config with parameters that are used in training\n",
    "# cfg now already contains everything we've set previously. We changed it a little bit for inference:\n",
    "cfg.MODEL.WEIGHTS = TRAINED_MODEL_PTH\n",
    "cfg.MODEL.ROI_HEADS.SCORE_THRESH_TEST = 0.9  # set a custom testing threshold\n",
    "predictor = DefaultPredictor(cfg)"
   ]
  },
  {
   "cell_type": "markdown",
   "metadata": {},
   "source": [
    "### Test on Validation Data"
   ]
  },
  {
   "cell_type": "code",
   "execution_count": null,
   "metadata": {},
   "outputs": [],
   "source": [
    "DatasetCatalog.clear()\n",
    "MetadataCatalog.clear()\n",
    "\n",
    "for d in [\"train\", \"val\"]:\n",
    "    DatasetCatalog.register(info[\"name\"] + \" \" + d, lambda d=d: construct_dataset_dict(DATA_DIR / d, info[\"classes\"]))\n",
    "    MetadataCatalog.get(info[\"name\"] + \" \" + d).set(thing_classes=list(info[\"classes\"].keys()))\n",
    "\n",
    "train_metadata = MetadataCatalog.get(info[\"name\"] + \" \" + \"train\")\n",
    "val_metadata = MetadataCatalog.get(info[\"name\"] + \" \" + \"val\")\n",
    "\n",
    "def check_image_exists(directory, image_name):\n",
    "    # Get the list of files in the directory\n",
    "    files = os.listdir(directory)\n",
    "\n",
    "    # Check if the image_name exists with any image extension\n",
    "    for file in files:\n",
    "        if file == image_name:\n",
    "            print(file, image_name)\n",
    "            return True\n",
    "\n",
    "    return False\n",
    "\n",
    "dataset_dict = DatasetCatalog.get(info[\"name\"] + \" \" + \"val\")\n",
    "for d in random.sample(dataset_dict, 1):    \n",
    "\n",
    "    im = cv2.imread(d['file_name'])\n",
    "    outputs = predictor(im)\n",
    "\n",
    "    # See raw predictions\n",
    "    v = Visualizer(\n",
    "        im[:, :, ::-1],\n",
    "        metadata=val_metadata, \n",
    "        scale=1,\n",
    "    )\n",
    "    out = v.draw_instance_predictions(outputs[\"instances\"].to(\"cpu\"))\n",
    "    plt.figure(layout='tight')\n",
    "    plt.title(\"Predictions\")\n",
    "    plt.imshow(out.get_image())\n",
    "    plt.show()\n",
    "\n",
    "    # See raw annotations\n",
    "    visualizer = Visualizer(\n",
    "        im[:, :, ::-1], \n",
    "        metadata=val_metadata, \n",
    "        scale=1,\n",
    "    )\n",
    "    out = visualizer.draw_dataset_dict(d)\n",
    "    plt.figure(layout='tight')\n",
    "    plt.title(\"Annotations\")\n",
    "    plt.imshow(out.get_image()[:, :, ::-1])\n",
    "    plt.show()"
   ]
  },
  {
   "cell_type": "markdown",
   "metadata": {},
   "source": [
    "### Test on Experimental Data"
   ]
  },
  {
   "cell_type": "code",
   "execution_count": null,
   "metadata": {},
   "outputs": [],
   "source": [
    "all_test_exp_images = list(TEST_DIR.glob(\"exp*.jpg\"))\n",
    "all_val_exp_images = list(VAL_DIR.glob(\"exp*.jpg\"))\n",
    "random_test_img = random.choice(all_test_exp_images + all_val_exp_images)\n",
    "random_test_img = cv2.imread(random_test_img)\n",
    "\n",
    "outputs = predictor(random_test_img) \n",
    "v = Visualizer(\n",
    "    random_test_img[:, :, ::-1],\n",
    "    metadata=val_metadata, \n",
    "    scale=1,   \n",
    ")\n",
    "\n",
    "out = v.draw_instance_predictions(outputs[\"instances\"].to(\"cpu\"))\n",
    "plt.figure(layout='tight')\n",
    "plt.title(\"Predictions\")\n",
    "plt.imshow(out.get_image())\n",
    "plt.show()"
   ]
  }
 ],
 "metadata": {
  "kernelspec": {
   "display_name": "custom-image-segmentation",
   "language": "python",
   "name": "python3"
  },
  "language_info": {
   "codemirror_mode": {
    "name": "ipython",
    "version": 3
   },
   "file_extension": ".py",
   "mimetype": "text/x-python",
   "name": "python",
   "nbconvert_exporter": "python",
   "pygments_lexer": "ipython3",
   "version": "3.10.14"
  }
 },
 "nbformat": 4,
 "nbformat_minor": 2
}
