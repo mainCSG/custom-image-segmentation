{
 "cells": [
  {
   "cell_type": "code",
   "execution_count": 18,
   "metadata": {},
   "outputs": [],
   "source": [
    "from train import *\n",
    "\n",
    "from detectron2.engine import DefaultPredictor\n",
    "from detectron2.utils.visualizer import Visualizer\n",
    "\n",
    "import matplotlib.pyplot as plt\n",
    "import random\n",
    "import cv2\n",
    "\n",
    "%matplotlib qt"
   ]
  },
  {
   "cell_type": "code",
   "execution_count": 24,
   "metadata": {},
   "outputs": [],
   "source": [
    "MODEL = \"charge_configuration\"\n",
    "\n",
    "DATA_DIR = Path(f\"../examples/{MODEL}/data\")\n",
    "CONFIG_FILE = Path(f\"../examples/{MODEL}/configuration.yaml\")\n",
    "TRAINED_MODEL_PTH = f\"../examples/{MODEL}/trained_models/{MODEL}.pth\"\n",
    "\n",
    "TRAIN_DIR = DATA_DIR / \"train\"\n",
    "VAL_DIR = DATA_DIR / \"val\"\n",
    "TEST_DIR = DATA_DIR / \"test\"\n",
    "\n",
    "CONFIDENCE_THRESHOLD = 0."
   ]
  },
  {
   "cell_type": "code",
   "execution_count": 25,
   "metadata": {},
   "outputs": [
    {
     "name": "stdout",
     "output_type": "stream",
     "text": [
      "\u001b[32m[06/24 11:38:45 d2.checkpoint.detection_checkpoint]: \u001b[0m[DetectionCheckpointer] Loading from ../examples/charge_configuration/trained_models/charge_configuration.pth ...\n"
     ]
    }
   ],
   "source": [
    "info, hyperparams = parse_configuration_file(CONFIG_FILE)\n",
    "\n",
    "cfg = get_cfg()\n",
    "cfg.merge_from_file(model_zoo.get_config_file(\"COCO-InstanceSegmentation/mask_rcnn_R_50_FPN_3x.yaml\"))\n",
    "\n",
    "cfg.MODEL.DEVICE = \"cpu\" \n",
    "cfg.DATALOADER.NUM_WORKERS = 0\n",
    "cfg.SOLVER.IMS_PER_BATCH = hyperparams['batch_num']\n",
    "cfg.SOLVER.BASE_LR = hyperparams['learning_rate']\n",
    "cfg.SOLVER.MAX_ITER = hyperparams['num_epochs']\n",
    "cfg.SOLVER.STEPS = []        \n",
    "cfg.MODEL.ROI_HEADS.BATCH_SIZE_PER_IMAGE = hyperparams['batch_size_per_img']\n",
    "cfg.MODEL.ROI_HEADS.NUM_CLASSES = len(list(info['classes'].keys()))\n",
    "cfg.MODEL.WEIGHTS = TRAINED_MODEL_PTH\n",
    "cfg.MODEL.ROI_HEADS.SCORE_THRESH_TEST = CONFIDENCE_THRESHOLD  # set a custom testing threshold\n",
    "\n",
    "predictor = DefaultPredictor(cfg)"
   ]
  },
  {
   "cell_type": "code",
   "execution_count": 26,
   "metadata": {},
   "outputs": [],
   "source": [
    "def filter_highest_confidence_per_class(instances):\n",
    "    # Extract scores and predicted classes\n",
    "    scores = instances.scores\n",
    "    pred_classes = instances.pred_classes\n",
    "\n",
    "    # Create a dictionary to store the highest confidence for each class\n",
    "    highest_confidence_per_class = {}\n",
    "\n",
    "    # Iterate through scores and classes\n",
    "    for idx, (score, cls) in enumerate(zip(scores, pred_classes)):\n",
    "        cls = int(cls)  # Ensure the class is treated as an integer\n",
    "        if cls not in highest_confidence_per_class:\n",
    "            highest_confidence_per_class[cls] = (score, idx)\n",
    "        else:\n",
    "            if score > highest_confidence_per_class[cls][0]:\n",
    "                highest_confidence_per_class[cls] = (score, idx)\n",
    "\n",
    "    # Create a list to store the indices of instances to keep\n",
    "    keep_indices = [idx for (_, idx) in highest_confidence_per_class.values()]\n",
    "\n",
    "    # Filter the instances\n",
    "    filtered_instances = instances[keep_indices]\n",
    "    \n",
    "    return filtered_instances"
   ]
  },
  {
   "cell_type": "markdown",
   "metadata": {},
   "source": [
    "### Test on Validation Data"
   ]
  },
  {
   "cell_type": "code",
   "execution_count": 27,
   "metadata": {},
   "outputs": [],
   "source": [
    "DatasetCatalog.clear()\n",
    "MetadataCatalog.clear()\n",
    "\n",
    "for d in [\"train\", \"val\"]:\n",
    "    DatasetCatalog.register(info[\"name\"] + \" \" + d, lambda d=d: construct_dataset_dict(DATA_DIR / d, info[\"classes\"]))\n",
    "    MetadataCatalog.get(info[\"name\"] + \" \" + d).set(thing_classes=list(info[\"classes\"].keys()))\n",
    "\n",
    "train_metadata = MetadataCatalog.get(info[\"name\"] + \" \" + \"train\")\n",
    "val_metadata = MetadataCatalog.get(info[\"name\"] + \" \" + \"val\")\n",
    "\n",
    "dataset_dict = DatasetCatalog.get(info[\"name\"] + \" \" + \"val\")\n",
    "for d in random.sample(dataset_dict, 1):    \n",
    "\n",
    "    im = cv2.imread(d['file_name'])\n",
    "    outputs = predictor(im)\n",
    "    outputs[\"instances\"] = filter_highest_confidence_per_class(outputs[\"instances\"])\n",
    "\n",
    "    # See raw predictions\n",
    "    v = Visualizer(\n",
    "        im[:, :, ::-1],\n",
    "        metadata=val_metadata, \n",
    "        scale=5,\n",
    "    )\n",
    "    out = v.draw_instance_predictions(outputs[\"instances\"].to(\"cpu\"))\n",
    "    plt.figure(layout='tight')\n",
    "    plt.title(\"Predictions\")\n",
    "    plt.imshow(out.get_image())\n",
    "    plt.show()\n",
    "\n",
    "    # See raw annotations\n",
    "    visualizer = Visualizer(\n",
    "        im[:, :, ::-1], \n",
    "        metadata=val_metadata, \n",
    "        scale=5,\n",
    "    )\n",
    "    out = visualizer.draw_dataset_dict(d)\n",
    "    plt.figure(layout='tight')\n",
    "    plt.title(\"Annotations\")\n",
    "    plt.imshow(out.get_image()[:, :, ::-1])\n",
    "    plt.show()"
   ]
  },
  {
   "cell_type": "markdown",
   "metadata": {},
   "source": [
    "### Test on Experimental Data"
   ]
  },
  {
   "cell_type": "code",
   "execution_count": 28,
   "metadata": {},
   "outputs": [],
   "source": [
    "MODEL = \"dot_configuration\"\n",
    "\n",
    "DATA_DIR = Path(f\"../examples/{MODEL}/data/sensor\")\n",
    "\n",
    "TRAIN_DIR = DATA_DIR / \"train\"\n",
    "VAL_DIR = DATA_DIR / \"val\"\n",
    "TEST_DIR = DATA_DIR / \"test\"\n",
    "\n",
    "all_test_exp_images = list(TEST_DIR.glob(\"exp*.jpg\"))\n",
    "all_val_exp_images = list(VAL_DIR.glob(\"exp*.jpg\"))\n",
    "random_test_img = random.choice(all_test_exp_images + all_val_exp_images)\n",
    "random_test_img = cv2.imread(random_test_img)\n",
    "\n",
    "# random_test_img = cv2.imread(\"/Users/andrijapaurevic/Downloads/raw_bb.png\")\n",
    "\n",
    "outputs = predictor(random_test_img) \n",
    "\n",
    "outputs[\"instances\"] = filter_highest_confidence_per_class(outputs[\"instances\"])\n",
    "\n",
    "v = Visualizer(\n",
    "    random_test_img[:, :, ::-1],\n",
    "    metadata=val_metadata, \n",
    "    scale=5,   \n",
    ")\n",
    "\n",
    "out = v.draw_instance_predictions(outputs[\"instances\"].to(\"cpu\"))\n",
    "plt.figure(layout='tight')\n",
    "plt.title(\"Predictions\")\n",
    "plt.imshow(out.get_image())\n",
    "plt.show()"
   ]
  }
 ],
 "metadata": {
  "kernelspec": {
   "display_name": "custom-image-segmentation",
   "language": "python",
   "name": "python3"
  },
  "language_info": {
   "codemirror_mode": {
    "name": "ipython",
    "version": 3
   },
   "file_extension": ".py",
   "mimetype": "text/x-python",
   "name": "python",
   "nbconvert_exporter": "python",
   "pygments_lexer": "ipython3",
   "version": "3.10.14"
  }
 },
 "nbformat": 4,
 "nbformat_minor": 2
}
