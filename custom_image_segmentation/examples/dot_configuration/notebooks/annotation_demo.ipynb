{
 "cells": [
  {
   "cell_type": "markdown",
   "metadata": {},
   "source": [
    "### Import Modules"
   ]
  },
  {
   "cell_type": "code",
   "execution_count": 1,
   "metadata": {},
   "outputs": [],
   "source": [
    "import os, sys\n",
    "import skimage as sk\n",
    "import numpy as np\n",
    "# import json \n",
    "# import cv2\n",
    "# from imantics import Mask\n",
    "# import albumentations as A\n",
    "# import yaml\n",
    "# import re\n",
    "import matplotlib.image as mpimg\n",
    "\n",
    "import matplotlib.pyplot as plt\n",
    "from pathlib import Path\n",
    "import random\n",
    "from convert_npy_to_jpg import extract_raw_data\n",
    "from annotate import *\n",
    "plt.rcParams['font.size'] = 16\n",
    "plt.rcParams['axes.labelsize'] = 16\n",
    "plt.rcParams['axes.titlesize'] = 16\n",
    "%matplotlib qt"
   ]
  },
  {
   "cell_type": "markdown",
   "metadata": {},
   "source": [
    "### Load random QFlow image"
   ]
  },
  {
   "cell_type": "code",
   "execution_count": 2,
   "metadata": {},
   "outputs": [],
   "source": [
    "image_folder = Path(\"../data/train\")\n",
    "npy_files = list(image_folder.glob(\"*.npy\"))\n",
    "random_npy_file = random.choice(npy_files)\n",
    "corresponding_image = image_folder / (random_npy_file.stem + \".jpg\")"
   ]
  },
  {
   "cell_type": "markdown",
   "metadata": {},
   "source": [
    "### Visualize the pre-defined dot configurations"
   ]
  },
  {
   "cell_type": "code",
   "execution_count": 3,
   "metadata": {},
   "outputs": [],
   "source": [
    "image = mpimg.imread(corresponding_image)\n",
    "states, V_P1, V_P2 = extract_raw_data(random_npy_file, data_type='state')\n",
    "plt.figure(layout='tight')\n",
    "plt.imshow(\n",
    "    image,\n",
    "    extent=[V_P1.min(), V_P1.max(), V_P2.min(), V_P2.max()],\n",
    "    alpha=1,\n",
    "    cmap='binary',\n",
    "    origin='lower'\n",
    "    )\n",
    "plt.imshow(\n",
    "    states,\n",
    "    extent=[V_P1.min(), V_P1.max(), V_P2.min(), V_P2.max()],\n",
    "    alpha=0.5,\n",
    "    origin='lower'\n",
    "    )\n",
    "plt.ylabel(r\"$V_{P_2}$ (V)\")\n",
    "plt.xlabel(r\"$V_{P_1}$ (V)\")\n",
    "plt.title(\"QFlow Dot Configuration States\")\n",
    "cbar = plt.colorbar()\n",
    "cbar.set_ticks([-1, 0, 0.5, 1, 1.5, 2])\n",
    "plt.show()"
   ]
  },
  {
   "cell_type": "markdown",
   "metadata": {},
   "source": [
    "### Convert pre-defined dot configurations to polygons"
   ]
  },
  {
   "cell_type": "markdown",
   "metadata": {},
   "source": [
    "Helper functions"
   ]
  },
  {
   "cell_type": "code",
   "execution_count": 6,
   "metadata": {},
   "outputs": [],
   "source": [
    "class_dict = {0.0: \"ND\", -1.0: \"ND\", 0.5: \"LD\", 1.0: \"CD\", 1.5: \"RD\", 2.0: \"DD\"}\n",
    "color_dict = {'ND': \"k\", \"ND\": \"k\", \"LD\": \"r\", \"CD\": \"g\", \"RD\": \"b\", \"DD\": \"y\"}\n",
    "\n",
    "background_value = -1 # barrier or no dot\n",
    "correction = 2 # Need integer values for Mask-RCNN\n",
    "\n",
    "states_regions_labelled = sk.measure.label(\n",
    "    (correction * states).astype(np.uint8), \n",
    "    background=background_value, \n",
    "    connectivity=1\n",
    ")\n",
    "\n",
    "states_regions = sk.measure.regionprops(states_regions_labelled)\n",
    "plt.figure(layout='tight')\n",
    "for index, region in enumerate(states_regions):\n",
    "    region_coords = region.coords\n",
    "    \n",
    "    # Get boundaries of coordinates\n",
    "    temp = {}\n",
    "    for row in region_coords:\n",
    "        key = row[0]\n",
    "        value = row[1]\n",
    "        if key not in temp:\n",
    "            temp[key] = [value, value]  # Initialize with the current value\n",
    "        else:\n",
    "            temp[key][0] = min(temp[key][0], value)  # Update minimum value\n",
    "            temp[key][1] = max(temp[key][1], value)  # Update maximum value\n",
    "\n",
    "    boundary_coords = np.array([[key, minmax[0]] for key, minmax in temp.items()] + [[key, minmax[1]] for key, minmax in temp.items()])\n",
    "\n",
    "    y, x = boundary_coords.T\n",
    "    polygon = np.vstack((x,y)).T\n",
    "\n",
    "    # Filter any weird artifacts for detectron2\n",
    "    if len(x) <= 10 or len(y) <= 10:\n",
    "        continue\n",
    "    \n",
    "    polygon_clockwise = organize_array_clockwise(polygon)\n",
    "    centroid = find_polygon_centroid(polygon_clockwise)\n",
    "    centroid_y, centroid_x = centroid\n",
    "    polygon_state = states[\n",
    "        centroid_x.astype(int), \n",
    "        centroid_y.astype(int)\n",
    "        ]\n",
    "    polygon_class = class_dict[polygon_state]\n",
    "\n",
    "    # Patches missing LD, RD info in v2 simulated\n",
    "    if centroid_x <= 20 and polygon_class == 'CD':\n",
    "        polygon_class = 'RD'\n",
    "    if centroid_y <= 20 and polygon_class == 'CD':\n",
    "        polygon_class = 'LD'\n",
    "        \n",
    "    plt.text(*centroid,s=polygon_class)\n",
    "    plt.scatter(polygon_clockwise[:,0], polygon_clockwise[:,1], c=color_dict[polygon_class])\n",
    "    plt.scatter(*centroid,c=color_dict[polygon_class])\n",
    "plt.xlabel(\"X Index\")\n",
    "plt.ylabel(\"Y Index\")\n",
    "plt.title(\"Polygons Extracted\")\n",
    "plt.show()"
   ]
  }
 ],
 "metadata": {
  "kernelspec": {
   "display_name": "custom-image-segmentation",
   "language": "python",
   "name": "python3"
  },
  "language_info": {
   "codemirror_mode": {
    "name": "ipython",
    "version": 3
   },
   "file_extension": ".py",
   "mimetype": "text/x-python",
   "name": "python",
   "nbconvert_exporter": "python",
   "pygments_lexer": "ipython3",
   "version": "3.10.14"
  }
 },
 "nbformat": 4,
 "nbformat_minor": 2
}
